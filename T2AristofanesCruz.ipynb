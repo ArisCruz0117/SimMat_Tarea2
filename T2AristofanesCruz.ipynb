{
 "cells": [
  {
   "cell_type": "markdown",
   "metadata": {},
   "source": [
    "\t\"Python is very popular because of its set of robust libraries that make it such a dynamic and a fast programming language,\" (Python es muy popular por su las librerías tan robustas que lo hacen un programa muy dinámico y un lenguaje de programación rápido), dijo Kristen Sosulski, profesor clínico asociado de información.  \n",
    "Este artículo habla sobre las tres grandes razones por las que Python es tan popular dentro de los programadores. La primera es su facilidad de uso. Es uno de los lenguajes más sencillos de aprender gracias a su alta fiabilidad y su sintaxis tan simple. Python también es un lenguaje que se lee como el inglés. A diferencia de otros lenguajes de bajo nivel que tienen más detalles \"nerds\".\n",
    "\n",
    "Otra razón es la explotación de la IA, el aprendizaje máquina y la ciencias de datos con este lenguaje. Python es muy útil para la encriptación de datos y desarrollo web. Se ha visto muy bien desarrollada por todas las personas que utilizan estos ejemplos para llevar a cabo su trabajo y con un lenguaje tan sencillo como lo es Python.\n",
    "\n",
    "La última gran razón es por su comunidad, por la magnitud de personas que utilizan este lenguaje de código abierto y que es tan utilizado día a día por todas las personas que están empezando a aprender a programar, tanto como las personas que trabajan con grandes cantidades de información. La comunidad es tan grande tal que si te llegas a topar con algun problema, es muy fácl resolverlo gracias a la gran comunidad que ha tenido ese mismo problema y que te puede resolver tu duda.\n"
   ]
  }
 ],
 "metadata": {
  "kernelspec": {
   "display_name": "Python 3",
   "language": "python",
   "name": "python3"
  },
  "language_info": {
   "codemirror_mode": {
    "name": "ipython",
    "version": 3
   },
   "file_extension": ".py",
   "mimetype": "text/x-python",
   "name": "python",
   "nbconvert_exporter": "python",
   "pygments_lexer": "ipython3",
   "version": "3.7.3"
  }
 },
 "nbformat": 4,
 "nbformat_minor": 2
}
